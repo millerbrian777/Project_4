{
 "cells": [
  {
   "cell_type": "markdown",
   "id": "85637e40",
   "metadata": {},
   "source": [
    "# Project_4: Diabetes"
   ]
  },
  {
   "cell_type": "code",
   "execution_count": null,
   "id": "a24fe6c0",
   "metadata": {},
   "outputs": [],
   "source": [
    "df = pd.read_csv(\"../Resources/diabetes_prediction_dataset.csv\")\n",
    "\n",
    "\n"
   ]
  }
 ],
 "metadata": {
  "kernelspec": {
   "display_name": "Python 3 (ipykernel)",
   "language": "python",
   "name": "python3"
  },
  "language_info": {
   "codemirror_mode": {
    "name": "ipython",
    "version": 3
   },
   "file_extension": ".py",
   "mimetype": "text/x-python",
   "name": "python",
   "nbconvert_exporter": "python",
   "pygments_lexer": "ipython3",
   "version": "3.11.5"
  }
 },
 "nbformat": 4,
 "nbformat_minor": 5
}
